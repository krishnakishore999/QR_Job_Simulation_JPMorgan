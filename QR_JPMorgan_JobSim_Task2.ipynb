{
  "nbformat": 4,
  "nbformat_minor": 0,
  "metadata": {
    "colab": {
      "provenance": []
    },
    "kernelspec": {
      "name": "python3",
      "display_name": "Python 3"
    },
    "language_info": {
      "name": "python"
    }
  },
  "cells": [
    {
      "cell_type": "code",
      "source": [
        "import pandas as pd\n",
        "#loading the data we created in Task1\n",
        "df_daily = pd.read_csv('file_path')"
      ],
      "metadata": {
        "id": "UYlYwHVzq8XA"
      },
      "execution_count": null,
      "outputs": []
    },
    {
      "cell_type": "markdown",
      "source": [
        "## Function for Pricing the Gas contract"
      ],
      "metadata": {
        "id": "HDtuVyFociVf"
      }
    },
    {
      "cell_type": "code",
      "source": [
        "from datetime import datetime"
      ],
      "metadata": {
        "id": "82_getI2gcD-"
      },
      "execution_count": null,
      "outputs": []
    },
    {
      "cell_type": "code",
      "source": [
        "# Let us take that the injection dates and withdraw dates has both date and amount of NG to be injected/withdrawn\n",
        "# injection/withdraw dates are lists and pdate is the dataframe created in Task1.\n",
        "\n",
        "def pcontract(inject_dates:list,withdraw_dates:list,pdata:dict,rate,max_vol,storage_cost):\n",
        "  val = 0\n",
        "  c_vol = 0\n",
        "  #calculating total storage cost\n",
        "  start_date = datetime.strptime(inject_dates[0], '%Y-%m-%d')\n",
        "  end_date = datetime.strptime(withdraw_dates[-1], '%Y-%m-%d')\n",
        "  months = (end_date.year - start_date.year) * 12 + (end_date.month - start_date.month)\n",
        "  Tot_storage_cost = months * storage_cost\n",
        "\n",
        "  #calcualting contract value\n",
        "  while inject_dates and withdraw_dates:\n",
        "    if inject_dates[0] <= withdraw_dates[0]:\n",
        "      if c_vol >= max_vol:\n",
        "        return \"injection not possible as storage limit exceeded1\"\n",
        "      c_vol += rate\n",
        "      val -= rate * pdata[inject_dates[0]]\n",
        "      inject_dates.pop(0)\n",
        "    else:\n",
        "      if c_vol <= 0:\n",
        "        return \"withdraw not possible as storage limit exceeded2\"\n",
        "      c_vol -= rate\n",
        "      val += rate * pdata[withdraw_dates[0]]\n",
        "      withdraw_dates.pop(0)\n",
        "\n",
        "  val -= Tot_storage_cost\n",
        "\n",
        "  #checking if there is still withdrawal left\n",
        "  if len(withdraw_dates)!=0:\n",
        "    c_vol -= (len(withdraw_dates))*rate\n",
        "    if c_vol <0 :\n",
        "      return \"withdraw not possible as storage limit exceeded3\"\n",
        "    while withdraw_dates:\n",
        "      val += rate * pdata[withdraw_dates[0]]\n",
        "      withdraw_dates.pop(0)\n",
        "\n",
        "  if len(inject_dates) > 0:\n",
        "    return \"injection not possible as storage limit exceeded4\"\n",
        "\n",
        "  if c_vol !=0:\n",
        "    return \"NG left\"\n",
        "  return val"
      ],
      "metadata": {
        "id": "wrklszoBcbfw"
      },
      "execution_count": null,
      "outputs": []
    },
    {
      "cell_type": "code",
      "source": [
        "#input from user\n",
        "\n",
        "inject_dates = input(\"Enter the injection dates (YYYY-MM-DD) seperated by commas: \").split(',')\n",
        "withdraw_dates = input(\"Enter the withdraw dates (YYYY-MM-DD) seperated by commas: \").split(',')\n",
        "rate = int(input(\"Enter the rate at which gas can be injected/withdrawn\"))\n",
        "max_vol = int(input(\"Enter the maximum volume of gas that can be injected/withdrawn\"))\n",
        "storage_cost = int(input(\"Enter the storage cost per month\"))\n",
        "\n",
        "result = pcontract(inject_dates,withdraw_dates,df_daily,rate,max_vol,storage_cost)\n",
        "print(result)"
      ],
      "metadata": {
        "colab": {
          "base_uri": "https://localhost:8080/"
        },
        "id": "yrYkr7njifb0",
        "outputId": "1639e79b-2fb3-4d25-87b3-fc4a2f9f37a2"
      },
      "execution_count": null,
      "outputs": [
        {
          "output_type": "stream",
          "name": "stdout",
          "text": [
            "Enter the injection dates (YYYY-MM-DD) seperated by commas: 2023-06-10,2023-07-01\n",
            "Enter the withdraw dates (YYYY-MM-DD) seperated by commas: 2024-01-01,2024-02-02\n",
            "Enter the rate at which gas can be injected/withdrawn1000\n",
            "Enter the maximum volume of gas that can be injected/withdrawn5000\n",
            "Enter the storage cost per month100\n",
            "800\n",
            "2000\n",
            "2563.626251390435\n"
          ]
        }
      ]
    }
  ]
}